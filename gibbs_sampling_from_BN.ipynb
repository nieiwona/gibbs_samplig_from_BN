{
 "cells": [
  {
   "cell_type": "markdown",
   "metadata": {},
   "source": [
    "# Statistical Data Analysis 2\n",
    "## Project 2 - Gibbs Sampling\n",
    "### Iwona Goździewska"
   ]
  },
  {
   "cell_type": "code",
   "execution_count": 1,
   "metadata": {},
   "outputs": [],
   "source": [
    "from pomegranate import *\n",
    "\n",
    "# The Rain Bayesian network\n",
    "cloudy = DiscreteDistribution({'1': 0.50, '0': 0.50})\n",
    "sprinkler = ConditionalProbabilityTable([['1', '1', 0.10], ['0', '1', 0.50],\n",
    "                                         ['0', '0', 0.90], ['1', '0', 0.50]], [cloudy])\n",
    "rain = ConditionalProbabilityTable([['1', '1', 0.80], ['0', '1', 0.20],\n",
    "                                    ['0', '0', 0.80], ['1', '0', 0.20]], [cloudy])\n",
    "wet_grass = ConditionalProbabilityTable(\n",
    "    [['1', '1', '1', 0.99],\n",
    "     ['1', '0', '1', 0.90],\n",
    "     ['0', '1', '1', 0.90],\n",
    "     ['0', '0', '1', 0.01],\n",
    "     ['1', '1', '0', 0.01],\n",
    "     ['1', '0', '0', 0.10],\n",
    "     ['0', '1', '0', 0.10],\n",
    "     ['0', '0', '0', 0.99]\n",
    "     ], [sprinkler, rain]\n",
    ")\n",
    "\n",
    "s1 = Node(cloudy, name=\"Cloudy\")\n",
    "s2 = Node(sprinkler, name=\"Sprinkler\")\n",
    "s3 = Node(rain, name=\"Rain\")\n",
    "s4 = Node(wet_grass, name=\"Wet Grass\")\n",
    "\n",
    "model = BayesianNetwork(\"The Rain Network\")\n",
    "model.add_states(s1, s2, s3, s4)\n",
    "model.add_edge(s1, s2)\n",
    "model.add_edge(s1, s3)\n",
    "model.add_edge(s2, s4)\n",
    "model.add_edge(s3, s4)\n",
    "model.bake()"
   ]
  },
  {
   "cell_type": "markdown",
   "metadata": {},
   "source": [
    "### 1. Derive the formulas for P (C = T | R = T, S = T, W = T), P (C = T | R = F, S = T, W =T), P (R = T | C = T, S = T, W = T) and P (R = T | C = F, S = T, W = T) up to normalization constants in the denominators, and compute their values by renormalizing the two possible values for each conditional probability distribution. (1 point)"
   ]
  },
  {
   "cell_type": "code",
   "execution_count": 2,
   "metadata": {},
   "outputs": [
    {
     "name": "stdout",
     "output_type": "stream",
     "text": [
      "P(C = T | R = T, S = T, W = T) = 0.444\n",
      "1 - P(C = T | R = T, S = T, W = T) = 0.556\n"
     ]
    }
   ],
   "source": [
    "# P(C = T | R = T, S = T, W = T)\n",
    "p1 = model.predict_proba({'Sprinkler': '1', 'Rain': '1', 'Wet Grass': '1'})\n",
    "p1 = p1[0].parameters[0]\n",
    "print(f\"P(C = T | R = T, S = T, W = T) = {round(p1['1'], 3)}\")\n",
    "print(f\"1 - P(C = T | R = T, S = T, W = T) = {round(p1['0'], 3)}\")"
   ]
  },
  {
   "cell_type": "code",
   "execution_count": 3,
   "metadata": {},
   "outputs": [
    {
     "name": "stdout",
     "output_type": "stream",
     "text": [
      "P(C = T | R = F, S = T, W =T) = 0.048\n",
      "1 - P(C = T | R = F, S = T, W =T) = 0.952\n"
     ]
    }
   ],
   "source": [
    "# P(C = T | R = F, S = T, W =T)\n",
    "p2 = model.predict_proba({'Sprinkler': '1', 'Rain': '0', 'Wet Grass': '1'})\n",
    "p2 = p2[0].parameters[0]\n",
    "print(f\"P(C = T | R = F, S = T, W =T) = {round(p2['1'], 3)}\")\n",
    "print(f\"1 - P(C = T | R = F, S = T, W =T) = {round(p2['0'], 3)}\")\n"
   ]
  },
  {
   "cell_type": "code",
   "execution_count": 4,
   "metadata": {},
   "outputs": [
    {
     "name": "stdout",
     "output_type": "stream",
     "text": [
      "P(R = T | C = T, S = T, W = T) = 0.815\n",
      "1 - P(R = T | C = T, S = T, W = T) = 0.185\n"
     ]
    }
   ],
   "source": [
    "#  P(R = T | C = T, S = T, W = T)\n",
    "p3 = model.predict_proba({'Cloudy': '1', 'Sprinkler': '1', 'Wet Grass': '1'})\n",
    "p3 = p3[2].parameters[0]\n",
    "print(f\"P(R = T | C = T, S = T, W = T) = {round(p3['1'], 3)}\")\n",
    "print(f\"1 - P(R = T | C = T, S = T, W = T) = {round(p3['0'], 3)}\")"
   ]
  },
  {
   "cell_type": "code",
   "execution_count": 5,
   "metadata": {},
   "outputs": [
    {
     "name": "stdout",
     "output_type": "stream",
     "text": [
      "P(R = T | C = F, S = T, W = T) = 0.216\n",
      "1 - P(R = T | C = F, S = T, W = T) = 0.784\n"
     ]
    }
   ],
   "source": [
    "#  P(R = T | C = F, S = T, W = T)\n",
    "p4 = model.predict_proba({'Cloudy': '0', 'Sprinkler': '1', 'Wet Grass': '1'})\n",
    "p4 = p4[2].parameters[0]\n",
    "print(f\"P(R = T | C = F, S = T, W = T) = {round(p4['1'], 3)}\")\n",
    "print(f\"1 - P(R = T | C = F, S = T, W = T) = {round(p4['0'], 3)}\")"
   ]
  },
  {
   "cell_type": "markdown",
   "metadata": {},
   "source": [
    "I checked all above marginal probabilities analytically and obtained the same values:  \n",
    "$ P(C=T|R=T,S=T,W=T)=P(C=T|R=T,S=T) = \\frac{P(C=T) \\cdot P(R=T|C=T) \\cdot P(S=T|C=T)}{P(C=T) \\cdot P(R=T|C=T) \\cdot P(S=T|C=T) + P(C=F) \\cdot P(R=T|C=F)P(S=T|C=F)} = \\frac{0.5 \\cdot 0.6 \\cdot 0.1}{0.5 \\cdot 0.8 \\cdot 0.1 + 0.5 \\cdot 0.2 \\cdot 0.5} = 0.44 $  \n",
    "$ P(C=F|R=T,S=T,W=T) = 1 - P(C=T|R=T,S=T,W=T) = 0.566 $  \n",
    "\n",
    "$P(C=T|R=F,S=T,W=T) = P(C=T|R=F,S=T) = \\frac{P(C=T) \\cdot P(R=F|C=T) \\cdot P(S=T|C=T)}{P(C=T) \\cdot P(R=F|C=T) \\cdot P(S=T|C=T) + P(C=F) \\cdot P(R=F|C=F) \\cdot P(S=T|C=F)} = \\frac{0.5 \\cdot 0.2 \\cdot 0.1}{0.5 \\cdot 0.2 \\cdot 0.1 + 0.5 \\cdot 0.8 \\cdot 0.5} = 0.048 $  \n",
    "$ P(C=F|R=F,S=T,W=T) = 1 - P(C=T|R=F,S=T,W=T) = 0.952 $  \n",
    "\n",
    "$ P(R=T|C=T,S=T,W=T) = \\frac{P(R=T|C=T,S=T) \\cdot P(W=T|R=T,C=T,S=T)}{P(W=T|C=T,S=T)} = \\frac{P(R=T|C=T) \\cdot P(W=T|R=T,S=T)}{P(R=T|C=T) \\cdot P(W=T|R=T,S=T) + P(R=F|C=T) \\cdot P(W=T|R=F,S=F)} = \\frac{0.8 \\dot 0.99}{0.8 \\cdot 0.99 + 0.2 \\cdot 0.9} = 0.815 $  \n",
    "$ P(R=F|C=T,S=T,W=T) = 1 - P(R=T|C=T,S=T,W=T) = 0.185 $  \n",
    "\n",
    "$ P(R=T|C=F,S=T,W=T) = \\frac{P(R=T|C=F,S=T) \\cdot P(W=T|R=T,C=F,S=T)}{P(W=T|C=F,S=T} = \\frac{P(R=T|C=F) \\cdot P(W=T|R=T,S=T)}{P(R=T|C=F) \\cdot P(W=T|R=T,S=T) + P(R=F|C=F) \\cdot P(W=T|R=F,S=T)} = \\frac{0.2 \\cdot 0.99}{0.2 \\cdot 0.99 + 0.8 \\cdot 0.9} = 0.216 $  \n",
    "$ P(R=F|C=F,S=T,W=T) = 1 - P(R=T|C=F,S=T,W=T) = 0.784 $\n"
   ]
  },
  {
   "cell_type": "markdown",
   "metadata": {},
   "source": [
    "### 2. Implement the Gibbs sampler sketched above for the Bayesian network in Figure 1 and draw 100 samples from the joint probability distribution P(R, C | S = T, W = T)"
   ]
  },
  {
   "cell_type": "code",
   "execution_count": 9,
   "metadata": {},
   "outputs": [],
   "source": [
    "samples_100 = model.sample(n=100, evidences=[{'Sprinkler': '1', 'Wet Grass': '1'}], algorithm='gibbs')"
   ]
  },
  {
   "cell_type": "markdown",
   "metadata": {},
   "source": [
    "### 3. Estimate the marginal probability of rain, given that the sprinkler is on and the grass is wet P (R = T | S = T, W = T) from the 100 samples. (1 point)"
   ]
  },
  {
   "cell_type": "code",
   "execution_count": 10,
   "metadata": {},
   "outputs": [
    {
     "name": "stdout",
     "output_type": "stream",
     "text": [
      "Marginal probability P(R = T | S = T, W = T) estimated from the 100 samples: 0.35\n"
     ]
    }
   ],
   "source": [
    "# Marginal probability depend of sampled data\n",
    "model_100 = BayesianNetwork.from_samples(samples_100, algorithm='exact')\n",
    "\n",
    "p5 = model_100.predict_proba({'Sprinkler': '1', 'Wet Grass': '1'})\n",
    "p5 = p5[2].parameters[0]\n",
    "print(f\"Marginal probability P(R = T | S = T, W = T) estimated from the 100 samples: {round(p5['1'], 3)}\")\n"
   ]
  },
  {
   "cell_type": "markdown",
   "metadata": {},
   "source": [
    "### 4. Now draw 50,000 samples instead of 100 using the Gibbs sampler."
   ]
  },
  {
   "cell_type": "code",
   "execution_count": 11,
   "metadata": {},
   "outputs": [],
   "source": [
    "samples_50k_v1 = model.sample(n=50_000, evidences=[{'Sprinkler': '1', 'Wet Grass': '1'}], algorithm='gibbs')\n",
    "samples_50k_v2 = model.sample(n=50_000, evidences=[{'Sprinkler': '1', 'Wet Grass': '1'}], algorithm='gibbs')\n"
   ]
  },
  {
   "cell_type": "markdown",
   "metadata": {},
   "source": [
    "### 5. Provide the plot of the relative frequencies of R = T and C = T up to each iteration t against t, for two independent runs of the sampler. Suggest a burn-in time based on this plot. (1 point)"
   ]
  },
  {
   "cell_type": "code",
   "execution_count": 12,
   "metadata": {},
   "outputs": [],
   "source": [
    "import pandas as pd\n",
    "import matplotlib.pyplot as plt\n",
    "\n",
    "\n",
    "def count_relative_frequency(samples, n):\n",
    "    freqs_df = pd.DataFrame()\n",
    "    counter_cloudy = 0 # s1\n",
    "    counter_rain = 0 # s3\n",
    "\n",
    "    freqs_cloudy = []\n",
    "    freqs_rain = []\n",
    "\n",
    "    for i in range(n):\n",
    "        cloudy_state = samples[i][0]\n",
    "        counter_cloudy += int(cloudy_state)\n",
    "        freq_cloudy = counter_cloudy / (i + 1)\n",
    "        freqs_cloudy.append(freq_cloudy)\n",
    "\n",
    "        rain_state = samples[i][2]\n",
    "        counter_rain += int(rain_state)\n",
    "        freq_rain = counter_rain / (i + 1)\n",
    "        freqs_rain.append(freq_rain)\n",
    "\n",
    "    freqs_df['CloudyFreq'] = freqs_cloudy\n",
    "    freqs_df['RainyFreq'] = freqs_rain\n",
    "    return freqs_df\n",
    "\n",
    "def plot_frequencies():\n",
    "    freqs_v1 = count_relative_frequency(samples_50k_v1, 50_000)\n",
    "    freqs_v2 = count_relative_frequency(samples_50k_v2, 50_000)\n",
    "\n",
    "    n = [x for x in range(1, 50_001)]\n",
    "    fig, axs = plt.subplots(2, 2, sharex=True, sharey=True)\n",
    "    axs[0, 0].plot(n, freqs_v1['CloudyFreq'])\n",
    "    axs[0, 0].set_title(\"Run1 Cloudy = T Frequency\")\n",
    "    axs[0,0].fill_between(n, freqs_v1['CloudyFreq'])\n",
    "\n",
    "    axs[1, 0].plot(n, freqs_v1['RainyFreq'])\n",
    "    axs[1, 0].set_title(\"Run1 Rainy = T Frequency\")\n",
    "    axs[1,0].fill_between(n, freqs_v1['RainyFreq'])\n",
    "\n",
    "    axs[0, 1].plot(n, freqs_v2['CloudyFreq'])\n",
    "    axs[0, 1].set_title(\"Run2 Cloudy = T Frequency\")\n",
    "    axs[0,1].fill_between(n, freqs_v2['CloudyFreq'])\n",
    "\n",
    "    axs[1, 1].plot(n, freqs_v2['RainyFreq'])\n",
    "    axs[1, 1].set_title(\"Run2 Rainy = T Frequency\")\n",
    "    axs[1,1].fill_between(n, freqs_v2['RainyFreq'])\n",
    "\n",
    "    for ax in axs.flat:\n",
    "        ax.set(xlabel='Interation t', ylabel='Frequency')\n",
    "\n",
    "    fig.tight_layout()\n",
    "    fig.savefig('./frequencies_plot.jpg')\n",
    "    fig.show()"
   ]
  },
  {
   "cell_type": "code",
   "execution_count": 13,
   "metadata": {},
   "outputs": [
    {
     "name": "stderr",
     "output_type": "stream",
     "text": [
      "<ipython-input-12-46f301e5fcf4>:55: UserWarning: Matplotlib is currently using module://ipykernel.pylab.backend_inline, which is a non-GUI backend, so cannot show the figure.\n",
      "  fig.show()\n"
     ]
    },
    {
     "data": {
      "image/png": "[encoded data removed]",
      "text/plain": [
       "<Figure size 432x288 with 4 Axes>"
      ]
     },
     "metadata": {
      "needs_background": "light"
     },
     "output_type": "display_data"
    }
   ],
   "source": [
    "plot_frequencies()"
   ]
  },
  {
   "cell_type": "markdown",
   "metadata": {},
   "source": [
    "It looks like frequency of samples rainy and cloudy stabilize around 8 000 iterations, so I suggest burn-in about 8 000 iterations."
   ]
  },
  {
   "cell_type": "markdown",
   "metadata": {},
   "source": [
    "### 6. Apply the Gelman test and plot potential scale reduction factor changes over the iterations using gelman.plot() from the coda package. Roughly speaking, this factor measures the ratio of the variances within and between independent runs of the sampler. Thus, for a stationary distribution, this factor should be close to 1.0. Suggest a burn-in time based on this plot. (2 points)"
   ]
  },
  {
   "cell_type": "code",
   "execution_count": 14,
   "metadata": {},
   "outputs": [],
   "source": [
    "def sample_data_to_dict(samples_50k_v1, samples_50k_v2):\n",
    "    sampled_data = {}\n",
    "    lc = []\n",
    "    lr = []\n",
    "\n",
    "    cloudy_samples_v1 = []\n",
    "    cloudy_samples_v2 = []\n",
    "    rainy_samples_v1 = []\n",
    "    rainy_samples_v2 = []\n",
    "\n",
    "    for i, j in zip(samples_50k_v1, samples_50k_v2):\n",
    "        cloudy_samples_v1.append(i[0])\n",
    "        cloudy_samples_v2.append(j[0])\n",
    "        rainy_samples_v1.append(i[2])\n",
    "        rainy_samples_v2.append(j[2])\n",
    "\n",
    "    cloudy_samples_v1 = list(map(int, cloudy_samples_v1))\n",
    "    cloudy_samples_v2 = list(map(int, cloudy_samples_v2))\n",
    "    rainy_samples_v1 = list(map(int, rainy_samples_v1))\n",
    "    rainy_samples_v2 = list(map(int, rainy_samples_v2))\n",
    "\n",
    "    lc.append(cloudy_samples_v1)\n",
    "    lc.append(cloudy_samples_v2)\n",
    "    lr.append(rainy_samples_v1)\n",
    "    lr.append(rainy_samples_v2)\n",
    "    \n",
    "    sampled_data['cloudy'] = lc\n",
    "    sampled_data['rainy'] = lr\n",
    "    \n",
    "    return sampled_data\n",
    "    \n",
    "    "
   ]
  },
  {
   "cell_type": "code",
   "execution_count": 15,
   "metadata": {},
   "outputs": [],
   "source": [
    "sampled_data = sample_data_to_dict(samples_50k_v1, samples_50k_v2)"
   ]
  },
  {
   "cell_type": "code",
   "execution_count": 16,
   "metadata": {},
   "outputs": [],
   "source": [
    "import arviz as az\n",
    "from statistics import median\n",
    "\n",
    "\n",
    "def gelman_plot(sampled_data):    \n",
    "    bin_size = 50\n",
    "    list_size = 50_000\n",
    "    \n",
    "    variable_names = ['cloudy', 'rainy']\n",
    "    gelman_data = {}\n",
    "    for variable in variable_names:\n",
    "        l = []\n",
    "        shrink_factors= []\n",
    "        median_sf = []\n",
    "        x = []\n",
    "        sampled_bin = {}\n",
    "        for i in range(1, int(list_size/bin_size) + 1):\n",
    "            bin_0 = sampled_data[variable][0][0:i*bin_size] # run 1\n",
    "            bin_1 = sampled_data[variable][1][0:i*bin_size] # run 2\n",
    "            x.append(i*bin_size)\n",
    "            sampled_bin[variable] = [bin_0, bin_1]\n",
    "            sampled_bin_az = az.convert_to_dataset({variable: sampled_bin})\n",
    "            shrink_factors.append(float(az.rhat(sampled_bin)[variable]))\n",
    "            median_sf.append(median(shrink_factors))\n",
    "        l.append(shrink_factors)\n",
    "        l.append(median_sf)\n",
    "        gelman_data[variable] = l\n",
    "        \n",
    "    for variable in variable_names:\n",
    "        plt.plot(x, gelman_data[variable][0], linewidth=2, alpha=0.5, label=\"exact\")\n",
    "        plt.plot(x, gelman_data[variable][1], 'm-', linewidth=1, label=\"median\")\n",
    "        plt.plot(x, [1 for i in range(len(x))], 'k', linewidth=1)\n",
    "        plt.ylabel('Shrink factor')\n",
    "        plt.xlabel('Sample')\n",
    "        plt.title(f'Shrink factor over samples number for variable {variable}')\n",
    "        plt.legend()\n",
    "        plt.savefig(f'./shrink_factor_{variable}.jpg')\n",
    "        plt.show()\n"
   ]
  },
  {
   "cell_type": "code",
   "execution_count": 17,
   "metadata": {},
   "outputs": [
    {
     "data": {
      "image/png": "[encoded data removed]",
      "text/plain": [
       "<Figure size 432x288 with 1 Axes>"
      ]
     },
     "metadata": {
      "needs_background": "light"
     },
     "output_type": "display_data"
    },
    {
     "data": {
      "image/png": "[encoded data removed]",
      "text/plain": [
       "<Figure size 432x288 with 1 Axes>"
      ]
     },
     "metadata": {
      "needs_background": "light"
     },
     "output_type": "display_data"
    }
   ],
   "source": [
    "gelman_plot(sampled_data)"
   ]
  },
  {
   "cell_type": "markdown",
   "metadata": {},
   "source": [
    "According to Gelman test, the burn-in time should be about 8 000 samples. "
   ]
  },
  {
   "cell_type": "markdown",
   "metadata": {},
   "source": [
    "### 7. Investigate the auto-correlation among the samples. We expect adjacent members from a Gibbs sampling sequence to be positively correlated, and we can quantify the amount of this correlation by using the auto-correlation function. The lag-k auto-correlation ρ k is the correlation between every draw and its kth neighbouring samples. Use the R-function acf() to provide plots for both variables Rain and Cloudy. Suggest an interval for drawing approximately independent samples. (2 points)"
   ]
  },
  {
   "cell_type": "code",
   "execution_count": 21,
   "metadata": {
    "scrolled": true
   },
   "outputs": [
    {
     "data": {
      "image/png": "[encoded data removed]",
      "text/plain": [
       "<Figure size 432x288 with 1 Axes>"
      ]
     },
     "metadata": {
      "needs_background": "light"
     },
     "output_type": "display_data"
    },
    {
     "data": {
      "image/png": "[encoded data removed]",
      "text/plain": [
       "<Figure size 432x288 with 1 Axes>"
      ]
     },
     "metadata": {
      "needs_background": "light"
     },
     "output_type": "display_data"
    }
   ],
   "source": [
    "from statsmodels.graphics import tsaplots\n",
    "\n",
    "sampled_data_cloudy_np = numpy.array(sampled_data['cloudy'][0])\n",
    "acf_cloudy = tsaplots.plot_acf(sampled_data_cloudy_np, zero=False)\n",
    "acf_cloudy.savefig(f'./autocorr_cloudy.jpg')\n",
    "\n",
    "sampled_data_rainy_np = numpy.array(sampled_data['rainy'][0])\n",
    "acf_rainy = tsaplots.plot_acf(sampled_data_rainy_np, zero=False)\n",
    "acf_rainy.savefig(f'./autocorr_rainy.jpg')\n",
    "\n",
    "\n",
    "plt.show()"
   ]
  },
  {
   "cell_type": "markdown",
   "metadata": {},
   "source": [
    "I suggest the interval should be equal to 5, the 5th sample is in the confidence interval."
   ]
  },
  {
   "cell_type": "markdown",
   "metadata": {},
   "source": [
    "### 8. Re-estimate P (R = T | S = T, W = T) based on 100 samples obtained after the suggested burn-in time and thinning-out. Compare with (3) and comment on your results. (1 point)"
   ]
  },
  {
   "cell_type": "code",
   "execution_count": 57,
   "metadata": {},
   "outputs": [
    {
     "name": "stdout",
     "output_type": "stream",
     "text": [
      "Re-estimated marginal probability P(R=T|S=T,W=T) estimated from the 100 samples, discarding first 8 000 and with thining out to every 5th sample is equal to 0.32, whereas without discarding and thinning-out is equal to 0.35\n"
     ]
    }
   ],
   "source": [
    "resampled = model.sample(n=505, evidences=[{'Sprinkler': '1', 'Wet Grass': '1'}], algorithm='gibbs', \n",
    "                             burnin=8_000, random_state=0) # setting a seed\n",
    "resampled_100 = resampled[5::5] # thinning-out to every 5th one\n",
    "remodel_100 = BayesianNetwork.from_samples(resampled_100, algorithm='exact')\n",
    "\n",
    "p6 = remodel_100.predict_proba({'Sprinkler': '1', 'Wet Grass': '1'})\n",
    "p6 = p6[2].parameters[0]\n",
    "print(f\"Re-estimated marginal probability P(R=T|S=T,W=T) estimated from the 100 samples, discarding first 8 000 and with thining out to every 5th sample is equal to {round(p6['1'], 3)}, whereas without discarding and thinning-out is equal to {round(p5['1'], 3)}\")\n"
   ]
  },
  {
   "cell_type": "markdown",
   "metadata": {},
   "source": [
    "Marginal probabaility estimated for 100 samples without discarding samples before burn-in and without thinning-out, highly depends on generated samples and can vary by about 0.15. Introduction of burn-in and thining-out samples makes a difference, generated samples are more reproductible so the result of marginal probability is more reproducible. When I setted the seed, the result became stable and equal to 0.32."
   ]
  },
  {
   "cell_type": "markdown",
   "metadata": {},
   "source": [
    "### 9. Compute the probability P (R = T | S = T, W = T) analytically and compare it to the sampling estimate. In real world applications, sampling is performed, because it is usually not possible to easily compute the probabilities analytically. However, since the Bayesian network in Figure 1 is only a small network with discrete variables, the analytical approach is possible. (2 points)"
   ]
  },
  {
   "cell_type": "markdown",
   "metadata": {},
   "source": [
    "$ P (R = T, S = T, W = T) = P(R=T|C=T) \\cdot P(S=T|C=T) \\cdot P(W=T|S=T,R=T) + P(R=T|C=F) \\cdot P(S=T|C=F) \\cdot P(W=T|S=T, R=T) = 0.8 \\cdot 0.1 \\cdot 0.99 + 0.2 \\cdot 0.5 \\cdot 0.99 = 0.1782 $  \n",
    "\n",
    "$ P(S=T,W=T) = P(R=T,S=T,W=T) + P(R=F,S=T,W=T) $  \n",
    "\n",
    "$ P(R=F, S=T, W=T) = P(R=F|C=T) \\cdot P(S=T|C=T) \\dot P(W=T|S=T,R=T) + P(R=F|C=T) \\cdot P(S=T|C=F) \\cdot P(W=T|S=T,R+F) = 0.8 \\cdot 0.1 \\cdot 0.99 + 0.8 \\cdot 0.5 \\cdot 0.99 = 0.378 $  \n",
    "\n",
    "$ P(R=T|S=T,W=T) = \\frac{0.1782}{0.1782 + 0.378} = 0.32 $"
   ]
  },
  {
   "cell_type": "markdown",
   "metadata": {},
   "source": [
    "Summing up, when to use Gibbs sampler it is crucial to assess burn-in, assess interval to draw approximately independent samples and set the seed. This gives very accurate result, in this case marginal probability P(R=T|S=T,W=T) obtained computationally and calculated analytically are both equal to 0.32."
   ]
  },
  {
   "cell_type": "code",
   "execution_count": null,
   "metadata": {},
   "outputs": [],
   "source": []
  }
 ],
 "metadata": {
  "kernelspec": {
   "display_name": "Python 3",
   "language": "python",
   "name": "python3"
  },
  "language_info": {
   "codemirror_mode": {
    "name": "ipython",
    "version": 3
   },
   "file_extension": ".py",
   "mimetype": "text/x-python",
   "name": "python",
   "nbconvert_exporter": "python",
   "pygments_lexer": "ipython3",
   "version": "3.8.3"
  }
 },
 "nbformat": 4,
 "nbformat_minor": 4
}
